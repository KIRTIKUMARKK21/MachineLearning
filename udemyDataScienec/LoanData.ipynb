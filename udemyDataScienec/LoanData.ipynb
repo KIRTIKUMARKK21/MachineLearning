{
 "cells": [
  {
   "cell_type": "markdown",
   "metadata": {},
   "source": [
    "# Importing packages and basic setup"
   ]
  },
  {
   "cell_type": "code",
   "execution_count": 7,
   "metadata": {},
   "outputs": [],
   "source": [
    "import numpy as np\n",
    "import pandas as pd"
   ]
  },
  {
   "cell_type": "code",
   "execution_count": 4,
   "metadata": {},
   "outputs": [],
   "source": [
    "np.set_printoptions(suppress=True,linewidth=100,precision=2)"
   ]
  },
  {
   "cell_type": "markdown",
   "metadata": {},
   "source": [
    "# Importing Data"
   ]
  },
  {
   "cell_type": "code",
   "execution_count": 8,
   "metadata": {},
   "outputs": [
    {
     "data": {
      "text/html": [
       "<div>\n",
       "<style scoped>\n",
       "    .dataframe tbody tr th:only-of-type {\n",
       "        vertical-align: middle;\n",
       "    }\n",
       "\n",
       "    .dataframe tbody tr th {\n",
       "        vertical-align: top;\n",
       "    }\n",
       "\n",
       "    .dataframe thead th {\n",
       "        text-align: right;\n",
       "    }\n",
       "</style>\n",
       "<table border=\"1\" class=\"dataframe\">\n",
       "  <thead>\n",
       "    <tr style=\"text-align: right;\">\n",
       "      <th></th>\n",
       "      <th>id;issue_d;loan_amnt;loan_status;funded_amnt;term;int_rate;installment;grade;sub_grade;verification_status;url;addr_state;total_pymnt</th>\n",
       "    </tr>\n",
       "  </thead>\n",
       "  <tbody>\n",
       "    <tr>\n",
       "      <th>0</th>\n",
       "      <td>48010226;May-15;35000.0;Current;35000.0; 36 mo...</td>\n",
       "    </tr>\n",
       "    <tr>\n",
       "      <th>1</th>\n",
       "      <td>57693261;;30000.0;Current;30000.0; 36 months;�...</td>\n",
       "    </tr>\n",
       "    <tr>\n",
       "      <th>2</th>\n",
       "      <td>59432726;Sep-15;15000.0;Current;15000.0; 36 mo...</td>\n",
       "    </tr>\n",
       "    <tr>\n",
       "      <th>3</th>\n",
       "      <td>53222800;Jul-15;9600.0;Current;9600.0; 36 mont...</td>\n",
       "    </tr>\n",
       "    <tr>\n",
       "      <th>4</th>\n",
       "      <td>57803010;Aug-15;8075.0;Current;8075.0; 36 mont...</td>\n",
       "    </tr>\n",
       "    <tr>\n",
       "      <th>...</th>\n",
       "      <td>...</td>\n",
       "    </tr>\n",
       "    <tr>\n",
       "      <th>9995</th>\n",
       "      <td>42974433;Mar-15;18000.0;Current;18000.0; 36 mo...</td>\n",
       "    </tr>\n",
       "    <tr>\n",
       "      <th>9996</th>\n",
       "      <td>45424654;Apr-15;11300.0;Current;11300.0; 36 mo...</td>\n",
       "    </tr>\n",
       "    <tr>\n",
       "      <th>9997</th>\n",
       "      <td>50415990;Jun-15;10000.0;Current;10000.0; 36 mo...</td>\n",
       "    </tr>\n",
       "    <tr>\n",
       "      <th>9998</th>\n",
       "      <td>46154151;Apr-15;;Current;10000.0; 36 months;16...</td>\n",
       "    </tr>\n",
       "    <tr>\n",
       "      <th>9999</th>\n",
       "      <td>66055249;Dec-15;10000.0;Current;10000.0; 36 mo...</td>\n",
       "    </tr>\n",
       "  </tbody>\n",
       "</table>\n",
       "<p>10000 rows × 1 columns</p>\n",
       "</div>"
      ],
      "text/plain": [
       "     id;issue_d;loan_amnt;loan_status;funded_amnt;term;int_rate;installment;grade;sub_grade;verification_status;url;addr_state;total_pymnt\n",
       "0     48010226;May-15;35000.0;Current;35000.0; 36 mo...                                                                                   \n",
       "1     57693261;;30000.0;Current;30000.0; 36 months;�...                                                                                   \n",
       "2     59432726;Sep-15;15000.0;Current;15000.0; 36 mo...                                                                                   \n",
       "3     53222800;Jul-15;9600.0;Current;9600.0; 36 mont...                                                                                   \n",
       "4     57803010;Aug-15;8075.0;Current;8075.0; 36 mont...                                                                                   \n",
       "...                                                 ...                                                                                   \n",
       "9995  42974433;Mar-15;18000.0;Current;18000.0; 36 mo...                                                                                   \n",
       "9996  45424654;Apr-15;11300.0;Current;11300.0; 36 mo...                                                                                   \n",
       "9997  50415990;Jun-15;10000.0;Current;10000.0; 36 mo...                                                                                   \n",
       "9998  46154151;Apr-15;;Current;10000.0; 36 months;16...                                                                                   \n",
       "9999  66055249;Dec-15;10000.0;Current;10000.0; 36 mo...                                                                                   \n",
       "\n",
       "[10000 rows x 1 columns]"
      ]
     },
     "execution_count": 8,
     "metadata": {},
     "output_type": "execute_result"
    }
   ],
   "source": [
    "raw_data=np..read_csv('loan-data.csv')\n",
    "raw_data"
   ]
  },
  {
   "cell_type": "code",
   "execution_count": null,
   "metadata": {},
   "outputs": [],
   "source": []
  }
 ],
 "metadata": {
  "kernelspec": {
   "display_name": "Python 3",
   "language": "python",
   "name": "python3"
  },
  "language_info": {
   "codemirror_mode": {
    "name": "ipython",
    "version": 3
   },
   "file_extension": ".py",
   "mimetype": "text/x-python",
   "name": "python",
   "nbconvert_exporter": "python",
   "pygments_lexer": "ipython3",
   "version": "3.8.5"
  }
 },
 "nbformat": 4,
 "nbformat_minor": 4
}
